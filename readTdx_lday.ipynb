{
 "cells": [
  {
   "cell_type": "code",
   "execution_count": 1,
   "metadata": {
    "collapsed": false
   },
   "outputs": [],
   "source": [
    "import numpy as np\n",
    "import pandas as pd\n",
    "import matplotlib.pyplot as plt\n",
    "%matplotlib  inline\n",
    "\n",
    "\n",
    "\n",
    "\n",
    "\n",
    "def read_tdxlday_2csv(dirname, fname, targetDir):\n",
    "    import os\n",
    "    from struct import unpack, pack\n",
    "    outfile=open(dirname + os.sep + fname, 'rb')\n",
    "    buf = outfile.read()\n",
    "    outfile.close()\n",
    "    \n",
    "    inputfile=open(targetDir + os.sep + fname + '.csv', 'w')\n",
    "    num=len(buf)\n",
    "    numrec=num/32\n",
    "    b=0\n",
    "    e=32\n",
    "    line=''\n",
    "    linename=u'date, open, high, low, close, amount, volume, str07' + '\\n'\n",
    "    \n",
    "    inputfile.write(linename)\n",
    "    for i in xrange(numrec):\n",
    "        a=unpack('IIIIIfII', buf[b:e])\n",
    "        #   结尾的\"\\\" 表示续行\n",
    "        line=str(a[0])+', ' +str(a[1]/100.0)+', ' +str(a[2]/100.0)+', ' +str(a[3]/100.00)+', '     +  \\\n",
    "             str(a[4]/100.0)+', ' +str(a[5]/1.0)+', ' +str(a[6]/100.0)+', ' +str(a[7])+'' +'\\n'\n",
    "        inputfile.write(line)\n",
    "        b+=32\n",
    "        e+=32\n",
    "    inputfile.close()\n",
    "        \n",
    "        \n",
    "\n",
    "#%%\n",
    "def read_lday_csvFile(fname):\n",
    "    import pandas as pd\n",
    "    u'''read joinquant export csv file to dataframe\n",
    "    param::\n",
    "        fname\n",
    "    return::\n",
    "\t\t4个对象的元组, (ohlc数据框, 代码, roc1序列,收益率序列)\n",
    "        df, ticker, roc1, BnH\n",
    "    example::\n",
    "        fname= \"d:/db/downloads/150195.csv\"\n",
    "        ohlc,ticker,roc1,BnH = read_lday_csvFile(fname)\n",
    "    '''\n",
    "#    fname = \"d:/db/downloads/159902.csv\"\n",
    "    ohlc = pd.read_csv(fname, index_col=0, parse_dates=True)\n",
    "#    ohlc_copy = ohlc.loc[:,:]\n",
    "#    num_samples = len(ohlc)\n",
    "##    ohlc.iloc[:,(0,1,2,3)].plot()\n",
    "#    #df= randprice(240,20)\n",
    "#    \n",
    "#    n_samples = num_samples - 100  #1500\n",
    "#    ohlc = ohlc_copy[-n_samples:]\n",
    "    ohlc.columns = ohlc.columns.str.replace(u' open', 'O')\n",
    "    ohlc.columns = ohlc.columns.str.replace(u' high', 'H')\n",
    "    ohlc.columns = ohlc.columns.str.replace(u' low', 'L')\n",
    "    ohlc.columns = ohlc.columns.str.replace(u' close', 'C')\n",
    "    ohlc.columns = ohlc.columns.str.replace(u' amount', 'A')\n",
    "    ohlc.columns = ohlc.columns.str.replace(u' volume', 'V')\n",
    "    \n",
    "    ohlc.index.name='tdx_DateTime'\n",
    "    \n",
    "    roc1 = ohlc.C.pct_change().fillna(value=0);  roc1 = roc1.rename('ROC1')\n",
    "    bnh = (1.0+roc1).cumprod()\n",
    "    bnh = bnh.rename('BnH')\n",
    "    ticker = fname.split('/')[-1][0:8]\n",
    "    ticker = ticker.upper()\n",
    "    \n",
    "    return ohlc, ticker, roc1, bnh\n",
    "    \n",
    "\n",
    "\n",
    "def HSL(vol, n):\n",
    "    out = vol/talib.SUM(vol,n)\n",
    "    # 处理nan: 前面的n-1个nan values\n",
    "    for i in np.arange(n-1):\n",
    "        out[i]=vol[i]/vol.cumsum()[i]\n",
    "    return out\n",
    "            \n",
    "\n",
    "def DMA(p,f):\n",
    "    y=[0]*len(p)\n",
    "    for i in np.arange(len(p)):\n",
    "        if i==0:\n",
    "            y[i] = p[i]\n",
    "        else:\n",
    "            y[i] = f[i]*p[i] + (1-f[i])*y[i-1]\n",
    "    return y\n",
    "\n",
    "             "
   ]
  },
  {
   "cell_type": "code",
   "execution_count": null,
   "metadata": {
    "collapsed": true
   },
   "outputs": [],
   "source": []
  },
  {
   "cell_type": "code",
   "execution_count": 5,
   "metadata": {
    "collapsed": false
   },
   "outputs": [],
   "source": [
    "\"\"\"This cell defineds the plot_candles function\"\"\"\n",
    "\n",
    "def plot_candles(pricing, title=None, volume_bars=False, color_function=None, technicals=None, savefig=False):\n",
    "    \"\"\" Plots a candlestick chart using quantopian pricing data.\n",
    "    \n",
    "    Author: Daniel Treiman\n",
    "    \n",
    "    Args:\n",
    "      pricing: A pandas dataframe with columns ['open_price', 'close_price', 'high', 'low', 'volume']\n",
    "      title: An optional title for the chart\n",
    "      volume_bars: If True, plots volume bars\n",
    "      color_function: A function which, given a row index and price series, returns a candle color.\n",
    "      technicals: A list of additional data series to add to the chart.  Must be the same length as pricing.\n",
    "    \"\"\"\n",
    "    def default_color(index, open_price, close_price, low, high):\n",
    "        return 'black' if open_price[index] > close_price[index] else 'white' # r g b  cyan black white\n",
    "    \n",
    "    color_function = color_function or default_color\n",
    "    technicals = technicals or []\n",
    "    open_price = pricing['O']\n",
    "    close_price = pricing['C']\n",
    "    low = pricing['L']\n",
    "    high = pricing['H']\n",
    "    oc_min = pd.concat([open_price, close_price], axis=1).min(axis=1)\n",
    "    oc_max = pd.concat([open_price, close_price], axis=1).max(axis=1)\n",
    "    \n",
    "    if volume_bars:\n",
    "        fig, (ax1, ax2) = plt.subplots(2, 1, sharex=True, gridspec_kw={'height_ratios': [3,1]} )\n",
    "    else:\n",
    "        fig, ax1 = plt.subplots(1, 1)\n",
    "    fig = plt.gcf()\n",
    "    #fig.set_size_inches(18.5, 10.5)\n",
    "    fig.set_size_inches(len(pricing)/10.0, 12)\n",
    "    \n",
    "    if title:\n",
    "        ax1.set_title(title)\n",
    "    x = np.arange(len(pricing))\n",
    "    candle_colors = [color_function(i, open_price, close_price, low, high) for i in x]\n",
    "#    candles = ax1.bar(x, oc_max-oc_min, bottom=oc_min, color=candle_colors, linewidth=0)\n",
    "#    lines = ax1.vlines(x + 0.4, low, high, color=candle_colors, linewidth=1)\n",
    "    candles = ax1.bar(x-0.4, oc_max-oc_min, bottom=oc_min, color=candle_colors, linewidth=0.2, edgecolor='black')\n",
    "    lines = ax1.vlines(x,    oc_max, high, color=['black']*len(pricing), linewidth=1)\n",
    "    lines = ax1.vlines(x,    low, oc_min,  color=['black']*len(pricing), linewidth=1)\n",
    "    ax1.xaxis.grid(False)\n",
    "    ax1.xaxis.set_tick_params(which='major', length=3.0, direction='in', top='off')\n",
    "    # Assume minute frequency if first two bars are in the same day.\n",
    "    frequency = 'minute' if (pricing.index[1] - pricing.index[0]).days == 0 else 'day'\n",
    "    time_format = '%Y-%m-%d'\n",
    "    if frequency == 'minute':\n",
    "        time_format = '%H:%M'\n",
    "    # Set X axis tick labels.\n",
    "    x5 = np.arange(0,len(pricing), 5)\n",
    "    dt_index5 = [pricing.index[i]  for i in x5]\n",
    "    plt.xticks(x5, [date.strftime(time_format) for date in dt_index5], rotation=45)\n",
    "    #plt.xticks(x, [date.strftime(time_format) for date in pricing.index], rotation='vertical')\n",
    "    \n",
    "    for indicator in technicals:\n",
    "        ax1.plot(x, indicator, 'o-', linewidth=0.1, markersize=0.7, markeredgewidth=0.1) #带圆圈标记的实线\n",
    "#     if dma61 in technicals: #.name = 'dma61': ax1.plot(x, indicator, linewidth=2)\n",
    "#         ax1.plot(x, dma61, 'o-', color='green', linewidth=0.1, markersize=0.7, markeredgecolor='green', markeredgewidth=0.1) \n",
    "    \n",
    "    if volume_bars:\n",
    "        volume = pricing['V']\n",
    "        volume_scale = None\n",
    "        scaled_volume = volume\n",
    "        if volume.max() > 1000000:\n",
    "            volume_scale = 'M'\n",
    "            scaled_volume = volume / 1000000\n",
    "        elif volume.max() > 1000:\n",
    "            volume_scale = 'K'\n",
    "            scaled_volume = volume / 1000\n",
    "        ax2.bar(x-0.4, scaled_volume, color=candle_colors, edgecolor='black')\n",
    "        volume_title = 'Volume'\n",
    "        if volume_scale:\n",
    "            volume_title = 'Volume (%s)' % volume_scale\n",
    "        ax2.set_title(volume_title)\n",
    "        ax2.xaxis.grid(False)\n",
    "        \n",
    "    if savefig:\n",
    "        fig.savefig('test2png.png', dpi=300)"
   ]
  },
  {
   "cell_type": "code",
   "execution_count": null,
   "metadata": {
    "collapsed": true
   },
   "outputs": [],
   "source": []
  },
  {
   "cell_type": "code",
   "execution_count": null,
   "metadata": {
    "collapsed": true
   },
   "outputs": [],
   "source": [
    "li1=np.arange(5)\n",
    "li2=np.arange(8)\n",
    "var=[li1, li2]\n",
    "print li1, li2, var"
   ]
  },
  {
   "cell_type": "markdown",
   "metadata": {},
   "source": [
    "li2 in var"
   ]
  },
  {
   "cell_type": "code",
   "execution_count": null,
   "metadata": {
    "collapsed": true
   },
   "outputs": [],
   "source": []
  },
  {
   "cell_type": "markdown",
   "metadata": {},
   "source": [
    "# plt.xticks?\n",
    "x5 = np.arange(0,len(ohlc), 5)\n",
    "dt_index5 = [ohlc.index[i]  for i in x5]\n",
    "# plt.xticks(x5, [date.strftime(time_format) for date in dt_index5], rotation=20)"
   ]
  },
  {
   "cell_type": "code",
   "execution_count": null,
   "metadata": {
    "collapsed": true
   },
   "outputs": [],
   "source": []
  },
  {
   "cell_type": "markdown",
   "metadata": {
    "collapsed": false
   },
   "source": [
    "#\" 转换为csv\"  调用示例:\n",
    "# pathdir='/vipdoc/sh/lday'  #d:\\new_pazq\\Vipdoc\\sz\\lday\\sz000032.day\n",
    "pathdir='d:/new_pazq/Vipdoc/sz/lday'\n",
    "targetDir= 'd:/temp/python_data_gupiao/lday'\n",
    "\n",
    "#listfile=os.listdir(pathdir)\n",
    "#for f in listfile:\n",
    "#      day2csv_data(pathdir,f,targetDir)\n",
    "        \n",
    "fname='sz000911.day'\n",
    "\n",
    "read_tdxlday_2csv(pathdir, fname, targetDir)"
   ]
  },
  {
   "cell_type": "code",
   "execution_count": null,
   "metadata": {
    "collapsed": true
   },
   "outputs": [],
   "source": []
  },
  {
   "cell_type": "code",
   "execution_count": null,
   "metadata": {
    "collapsed": true
   },
   "outputs": [],
   "source": []
  },
  {
   "cell_type": "code",
   "execution_count": 3,
   "metadata": {
    "collapsed": false
   },
   "outputs": [],
   "source": [
    "# 读取csv\n",
    "fname='d:/temp/python_data_gupiao/lday/sz000911.day.csv'\n",
    "#ohlc = pd.read_csv(fname, index_col=0, parse_dates=True)\n",
    "ohlc,ticker,roc1,bnh = read_lday_csvFile(fname)\n",
    "bnh = (1.0+roc1).cumprod();    bnh = bnh.rename('BnH')"
   ]
  },
  {
   "cell_type": "markdown",
   "metadata": {
    "collapsed": true
   },
   "source": [
    "print ohlc.C.head(), '\\n', roc1.head(), bnh.head(6)\n",
    "print len(ohlc), len(ticker), len(roc1), len(bnh)\n",
    "print type(ohlc), type(ticker), type(roc1), type(bnh)"
   ]
  },
  {
   "cell_type": "markdown",
   "metadata": {
    "collapsed": false
   },
   "source": [
    "ohlc.columns"
   ]
  },
  {
   "cell_type": "markdown",
   "metadata": {
    "collapsed": true
   },
   "source": [
    "bnh.plot(title=ticker,legend=True, logy=True)"
   ]
  },
  {
   "cell_type": "markdown",
   "metadata": {
    "collapsed": true
   },
   "source": [
    "ohlc.C.plot(title=ticker,legend=True, logy=True)\n"
   ]
  },
  {
   "cell_type": "markdown",
   "metadata": {
    "collapsed": true
   },
   "source": [
    "import math"
   ]
  },
  {
   "cell_type": "markdown",
   "metadata": {
    "collapsed": false
   },
   "source": [
    "# math.log 仅支持标量运算\n",
    "# np.log2?"
   ]
  },
  {
   "cell_type": "markdown",
   "metadata": {
    "collapsed": true
   },
   "source": [
    "#log2_C=pd.Series(np.log2(ohlc.C.values), index=ohlc.index)\n",
    "#log2_C.plot(title=ticker+', Log2 scale', legend=True)\n",
    "\n",
    "def pd_log2(x):\n",
    "    return pd.Series(np.log2(x.values), index= x.index)\n",
    "                     \n",
    "log_bnh = pd_log2(bnh)\n",
    "log_bnh[:40].plot()"
   ]
  },
  {
   "cell_type": "markdown",
   "metadata": {
    "collapsed": true
   },
   "source": [
    "log_bnh.plot()"
   ]
  },
  {
   "cell_type": "markdown",
   "metadata": {
    "collapsed": true
   },
   "source": [
    "plot_candles(ohlc.head(30), title=ticker+' day candles', volume_bars=False)"
   ]
  },
  {
   "cell_type": "markdown",
   "metadata": {
    "collapsed": true
   },
   "source": [
    "plot_candles(ohlc.tail(50), title=ticker+' day candles', volume_bars=True)"
   ]
  },
  {
   "cell_type": "code",
   "execution_count": null,
   "metadata": {
    "collapsed": true
   },
   "outputs": [],
   "source": []
  },
  {
   "cell_type": "code",
   "execution_count": null,
   "metadata": {
    "collapsed": true
   },
   "outputs": [],
   "source": []
  },
  {
   "cell_type": "code",
   "execution_count": null,
   "metadata": {
    "collapsed": true
   },
   "outputs": [],
   "source": []
  },
  {
   "cell_type": "markdown",
   "metadata": {
    "collapsed": false
   },
   "source": [
    "fig, (ax1, ax2) = plt.subplots(2, 1)\n",
    "ax1.bar?"
   ]
  },
  {
   "cell_type": "markdown",
   "metadata": {
    "collapsed": true
   },
   "source": [
    "fig = plt.gcf()\n",
    "fig.set_size_inches(18.5, 10.5)\n",
    "#fig.savefig('test2png.png', dpi=100)\n",
    "\n",
    "Command mode short-cut keys:\n",
    "c       to copy cell\n",
    "x       to delete cell   \n",
    "j       to select cell below 选择下方单元\n",
    "k       to select cell above 选择上方单元\n",
    "shift+j to extend select cell below 扩展选择下方单元\n",
    "shift+k to extend select cell above 扩展选择上方单元\n",
    "v       to paste cell above\n",
    "shift-V to paste cell below\n",
    "shift-M to merge selected cells, or merge current cell with cell below"
   ]
  },
  {
   "cell_type": "markdown",
   "metadata": {
    "collapsed": true
   },
   "source": [
    "#魔法命令pycat : cat(显示) 一个py脚本文件到输出页面里\n",
    "%pycat dict_indexcode.py\n",
    "%pycat dict_indexcode.py\n",
    "\n",
    "?%pycat #显示帮助文档到输出页面里"
   ]
  },
  {
   "cell_type": "markdown",
   "metadata": {},
   "source": [
    "def get_10pct_log_scale(last_price = 16.04):\n",
    "    import math\n",
    "    '''\n",
    "    通达信的k线分析图里的对数坐标系10%等比坐标值的计算方法: \n",
    "    last_prince: 初始的y值, 右侧第二个k线的收盘价\n",
    "    然后, 在此基础上向下2个板, 向上四个板画线的价格\n",
    "    '''\n",
    "    \n",
    "    y= [ last_price * math.pow(1.1, i ) for i in range(-2,5)]\n",
    "    print y"
   ]
  },
  {
   "cell_type": "code",
   "execution_count": 28,
   "metadata": {
    "collapsed": false
   },
   "outputs": [
    {
     "name": "stdout",
     "output_type": "stream",
     "text": [
      "[9.917355371900825, 10.909090909090908, 12.0, 13.200000000000001, 14.520000000000003, 15.972000000000005, 17.569200000000006]\n"
     ]
    }
   ],
   "source": [
    "get_10pct_log_scale(12)"
   ]
  },
  {
   "cell_type": "code",
   "execution_count": 20,
   "metadata": {
    "collapsed": true
   },
   "outputs": [
    {
     "name": "stdout",
     "output_type": "stream",
     "text": [
      "xrange(5)\n"
     ]
    }
   ],
   "source": [
    "#print xrange(5)\n",
    "#print math.exp(2)\n",
    "#math.expm1?\n",
    "#math.pow?"
   ]
  },
  {
   "cell_type": "markdown",
   "metadata": {},
   "source": [
    "'''\n",
    "在talib包里有一个func.pyd文件(python dll文件), 他就是python版本的talib.dll\n",
    "可以通过import语句来导入该模块, 然后通过dir来查看里面的接口函数\n",
    "func.pyd\n",
    "'''\n",
    "from talib import func\n",
    "dir(func)\n",
    "\n",
    "talib.get_functions()"
   ]
  },
  {
   "cell_type": "code",
   "execution_count": null,
   "metadata": {
    "collapsed": true
   },
   "outputs": [],
   "source": []
  },
  {
   "cell_type": "code",
   "execution_count": null,
   "metadata": {
    "collapsed": true
   },
   "outputs": [],
   "source": [
    "adc"
   ]
  },
  {
   "cell_type": "code",
   "execution_count": null,
   "metadata": {
    "collapsed": true
   },
   "outputs": [],
   "source": []
  },
  {
   "cell_type": "code",
   "execution_count": null,
   "metadata": {
    "collapsed": true
   },
   "outputs": [],
   "source": [
    "asasx"
   ]
  },
  {
   "cell_type": "code",
   "execution_count": null,
   "metadata": {
    "collapsed": true
   },
   "outputs": [],
   "source": [
    "asasx"
   ]
  },
  {
   "cell_type": "code",
   "execution_count": null,
   "metadata": {
    "collapsed": true
   },
   "outputs": [],
   "source": []
  }
 ],
 "metadata": {
  "kernelspec": {
   "display_name": "Python 2",
   "language": "python",
   "name": "python2"
  },
  "language_info": {
   "codemirror_mode": {
    "name": "ipython",
    "version": 2
   },
   "file_extension": ".py",
   "mimetype": "text/x-python",
   "name": "python",
   "nbconvert_exporter": "python",
   "pygments_lexer": "ipython2",
   "version": "2.7.11"
  }
 },
 "nbformat": 4,
 "nbformat_minor": 0
}
