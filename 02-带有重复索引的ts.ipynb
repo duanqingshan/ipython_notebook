{
 "cells": [
  {
   "cell_type": "markdown",
   "metadata": {},
   "source": [
    "# TOC 时间序列\n",
    "《利用python进行数据分析》读书笔记--第十章 时间序列（一） - 司空格子Ored - 博客园   http://www.cnblogs.com/batteryhp/p/5055149.html  \n",
    "1. 日期和时间的类型和工具\n",
    "    - 日期字符串和日期类的转换(字符串和日期的转换)\n",
    "1. 时间序列基础\n",
    "    - 索引, 选取(查询), 抽子集等操作\n",
    "    - 具有重复索引值的时间序列\n",
    "1. 日期范围, 频率, 移位\n"
   ]
  },
  {
   "cell_type": "code",
   "execution_count": 1,
   "metadata": {
    "collapsed": true
   },
   "outputs": [],
   "source": [
    "# %load ../script/my_import.py\n",
    "\n",
    "# my_import.py\n",
    "import numpy as np\n",
    "import pandas as pd\n",
    "import matplotlib.pyplot as plt\n",
    "import tushare as ts\n",
    "import time\n",
    "import datetime as dt\n",
    "\n",
    "from pandas import Series, DataFrame\n",
    "\n",
    "from datetime import datetime,timedelta\n",
    "from dateutil.parser import parse\n",
    "\n",
    "%matplotlib inline"
   ]
  },
  {
   "cell_type": "code",
   "execution_count": 16,
   "metadata": {
    "collapsed": false
   },
   "outputs": [
    {
     "name": "stdout",
     "output_type": "stream",
     "text": [
      "DatetimeIndex(['2000-01-01', '2000-01-02', '2000-01-02', '2000-01-02',\n",
      "               '2000-01-03'],\n",
      "              dtype='datetime64[ns]', freq=None) \n",
      "\n",
      "2000-01-01    0\n",
      "2000-01-02    1\n",
      "2000-01-02    2\n",
      "2000-01-02    3\n",
      "2000-01-03    4\n",
      "dtype: int32 \n",
      "\n",
      "['1/1/2000', '1/2/2000', '1/2/2000', '1/2/2000', '1/3/2000'] \n",
      "\n",
      "1/1/2000    0\n",
      "1/2/2000    1\n",
      "1/2/2000    2\n",
      "1/2/2000    3\n",
      "1/3/2000    4\n",
      "dtype: int32 \n",
      "\n"
     ]
    }
   ],
   "source": [
    "# 首先创建时间索引, 注意下面的DatetimeIndex生成方式\n",
    "dates = pd.DatetimeIndex(['1/1/2000','1/2/2000','1/2/2000','1/2/2000','1/3/2000'])\n",
    "dup_ts = Series(np.arange(5),index = dates)\n",
    "print dates, '\\n'\n",
    "print dup_ts,'\\n'\n",
    "# 下面构建的序列, 实际上就不是时间序列了, 因为它的索引的数据类型不是时间, 而是字符串\n",
    "dates1 = ['1/1/2000','1/2/2000','1/2/2000','1/2/2000','1/3/2000']\n",
    "dup_ts1 = Series(np.arange(5),index = dates1)\n",
    "print dates1, '\\n'\n",
    "print dup_ts1,'\\n'"
   ]
  },
  {
   "cell_type": "code",
   "execution_count": 14,
   "metadata": {
    "collapsed": false
   },
   "outputs": [
    {
     "data": {
      "text/plain": [
       "DatetimeIndex(['2000-01-01', '2000-01-02', '2000-01-02', '2000-01-02',\n",
       "               '2000-01-03'],\n",
       "              dtype='datetime64[ns]', freq=None)"
      ]
     },
     "execution_count": 14,
     "metadata": {},
     "output_type": "execute_result"
    }
   ],
   "source": [
    "dup_ts.index"
   ]
  },
  {
   "cell_type": "code",
   "execution_count": 15,
   "metadata": {
    "collapsed": false
   },
   "outputs": [
    {
     "data": {
      "text/plain": [
       "Index([u'1/1/2000', u'1/2/2000', u'1/2/2000', u'1/2/2000', u'1/3/2000'], dtype='object')"
      ]
     },
     "execution_count": 15,
     "metadata": {},
     "output_type": "execute_result"
    }
   ],
   "source": [
    "dup_ts1.index"
   ]
  },
  {
   "cell_type": "code",
   "execution_count": 13,
   "metadata": {
    "collapsed": false
   },
   "outputs": [
    {
     "name": "stdout",
     "output_type": "stream",
     "text": [
      "DatetimeIndex(['2000-01-01', '2000-01-02', '2000-01-02', '2000-01-02',\n",
      "               '2000-01-03'],\n",
      "              dtype='datetime64[ns]', freq=None) \n",
      "\n",
      "['1/1/2000', '1/2/2000', '1/2/2000', '1/2/2000', '1/3/2000'] \n",
      "\n",
      "2000-01-01    0\n",
      "2000-01-02    1\n",
      "2000-01-02    2\n",
      "2000-01-02    3\n",
      "2000-01-03    4\n",
      "dtype: int32 \n",
      "\n",
      "1/1/2000    0\n",
      "1/2/2000    1\n",
      "1/2/2000    2\n",
      "1/2/2000    3\n",
      "1/3/2000    4\n",
      "dtype: int32 \n",
      "\n",
      "False \n",
      "\n",
      "2000-01-02    1\n",
      "2000-01-02    2\n",
      "2000-01-02    3\n",
      "dtype: int32 \n",
      "\n",
      "4 \n",
      "\n"
     ]
    },
    {
     "data": {
      "text/plain": [
       "<pandas.core.groupby.SeriesGroupBy object at 0x06E0CAD0>"
      ]
     },
     "execution_count": 13,
     "metadata": {},
     "output_type": "execute_result"
    }
   ],
   "source": [
    "#通过检查索引的属性:是否为唯一的属性(is_unique)，我们就可以知道它不是\n",
    "print dup_ts.index.is_unique,'\\n'\n",
    "#此时若索引该时间序列，得到的可能是标量值，也可能是切片\n",
    "print dup_ts['1/2/2000'],'\\n'\n",
    "print dup_ts['1/3/2000'], '\\n'\n",
    "#假如你想要对具有非\n",
    "#唯一时间戳的数据进行聚合一个办法是使用groupby，并传入level = 0\n",
    "grouped = dup_ts.groupby(level = 0)\n",
    "grouped"
   ]
  },
  {
   "cell_type": "code",
   "execution_count": 8,
   "metadata": {
    "collapsed": false
   },
   "outputs": [
    {
     "name": "stdout",
     "output_type": "stream",
     "text": [
      "2000-01-01    0\n",
      "2000-01-02    2\n",
      "2000-01-03    4\n",
      "dtype: int32 \n",
      "\n",
      "2000-01-01    1\n",
      "2000-01-02    3\n",
      "2000-01-03    1\n",
      "dtype: int64\n"
     ]
    },
    {
     "data": {
      "text/plain": [
       "2000-01-01    1\n",
       "2000-01-02    3\n",
       "2000-01-03    1\n",
       "dtype: int64"
      ]
     },
     "execution_count": 8,
     "metadata": {},
     "output_type": "execute_result"
    }
   ],
   "source": [
    "print grouped.mean(),'\\n'\n",
    "print grouped.count()\n",
    "grouped.count()"
   ]
  }
 ],
 "metadata": {
  "kernelspec": {
   "display_name": "Python 2",
   "language": "python",
   "name": "python2"
  },
  "language_info": {
   "codemirror_mode": {
    "name": "ipython",
    "version": 2
   },
   "file_extension": ".py",
   "mimetype": "text/x-python",
   "name": "python",
   "nbconvert_exporter": "python",
   "pygments_lexer": "ipython2",
   "version": "2.7.11"
  }
 },
 "nbformat": 4,
 "nbformat_minor": 0
}
